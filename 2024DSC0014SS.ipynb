{
 "cells": [
  {
   "cell_type": "markdown",
   "metadata": {},
   "source": [
    "Reg. no: 2024/DSC/0014/SS \n"
   ]
  },
  {
   "cell_type": "markdown",
   "metadata": {},
   "source": [
    "Question Five"
   ]
  },
  {
   "cell_type": "code",
   "execution_count": null,
   "metadata": {},
   "outputs": [],
   "source": [
    "import numpy as np\n",
    "import matplotlib.pyplot as plt\n",
    "import seaborn as sns\n",
    "\n",
    "# Let the matrix be  x\n",
    "x = np.array([[1, 0.2, 0.5], [0.2, 1, 0.8], [0.5, 0.8, 1]])\n",
    "\n",
    "# i) Inversion of the matrix\n",
    "print(f\"The transpose of the matrix is {np.transpose(x)}\")\n",
    "\n",
    "# ii) Determinant of the matrix\n",
    "print(f\"The determinant of the matrix is {np.linalg.det(x)}\") \n",
    "\n",
    "# iii) Decompose the matrix\n",
    "print(f\"The decomposed matrix is {np.linalg.decompose(x)}\")\n",
    "\n",
    "# iv) The transformed matrix\n",
    "print(f\"The transformed matrix is {np.linalg.transform(x)}\")"
   ]
  },
  {
   "cell_type": "markdown",
   "metadata": {},
   "source": [
    "Question Six"
   ]
  },
  {
   "cell_type": "code",
   "execution_count": null,
   "metadata": {},
   "outputs": [],
   "source": [
    "import numpy as np\n",
    "import matplotlib.pyplot as plt\n",
    "import seaborn as sns\n",
    "# i) Generate 1000 random samples from the poisson distribution using python\n",
    "import random\n",
    "# Let the number of customers be y\n",
    "y = random.poisson(lam = 5, size = (1000))\n",
    "\n",
    "# ii) Calculate and print the mean and variance of the generated sample\n",
    "y_mean = np.mean(y)\n",
    "print(f\"The mean is {y_mean}\")\n",
    "y_variance = np.var(y)\n",
    "print(f\"The variance is {y_variance}\")\n",
    "\n",
    "# iii) Pot a histogram of the samples to visualize the distribution.\n",
    "sns.histplot(y, label= 'Poisson distribution', color = 'pink')\n",
    "plt.title(\"A histogram showing the poisson distribution for the number of customers.\")\n",
    "plt.xlabel(\"Number of customers\")\n",
    "plt.ylabel(\"Frequency\")\n",
    "plt.show()\n",
    "\n"
   ]
  }
 ],
 "metadata": {
  "kernelspec": {
   "display_name": "Python 3",
   "language": "python",
   "name": "python3"
  },
  "language_info": {
   "codemirror_mode": {
    "name": "ipython",
    "version": 3
   },
   "file_extension": ".py",
   "mimetype": "text/x-python",
   "name": "python",
   "nbconvert_exporter": "python",
   "pygments_lexer": "ipython3",
   "version": "3.11.4"
  }
 },
 "nbformat": 4,
 "nbformat_minor": 2
}
